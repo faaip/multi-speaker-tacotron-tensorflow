{
 "cells": [
  {
   "cell_type": "code",
   "execution_count": null,
   "metadata": {},
   "outputs": [],
   "source": [
    "from synthesizer import *"
   ]
  }
 ],
 "metadata": {
  "kernelspec": {
   "display_name": "multi-speaker",
   "language": "python",
   "name": "multi-speaker"
  }
 },
 "nbformat": 4,
 "nbformat_minor": 2
}
